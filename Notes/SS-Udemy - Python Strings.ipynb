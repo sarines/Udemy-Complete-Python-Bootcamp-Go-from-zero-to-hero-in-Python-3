{
 "cells": [
  {
   "cell_type": "markdown",
   "metadata": {},
   "source": [
    "# Strings - Python Object\n",
    "\n",
    "1. Strings are Immutable\n",
    "2. Indexing and slicing in Strings\n",
    "In Python, we use brackets [] after an object to call its index. We should also note that indexing starts at 0 for Python\n",
    "    a. Indexing starts with 0\n",
    "    b. use the -ve indexes to reverse the strings\n",
    "    c. slicing is done [start:end:step] syntax - end doesn't included the index mentioned, but it considers till one before it"
   ]
  },
  {
   "cell_type": "markdown",
   "metadata": {},
   "source": [
    "### String Slicing and Indexing"
   ]
  },
  {
   "cell_type": "code",
   "execution_count": 3,
   "metadata": {},
   "outputs": [
    {
     "name": "stdout",
     "output_type": "stream",
     "text": [
      "hello worl\n"
     ]
    }
   ],
   "source": [
    "#grab everything but last letter\n",
    "\n",
    "s = \"hello world\"\n",
    "\n",
    "print (s[:-1])\n"
   ]
  },
  {
   "cell_type": "code",
   "execution_count": 8,
   "metadata": {},
   "outputs": [
    {
     "name": "stdout",
     "output_type": "stream",
     "text": [
      "dlrow olleh\n"
     ]
    }
   ],
   "source": [
    "#printing backwards\n",
    "print (s[::-1])"
   ]
  },
  {
   "cell_type": "markdown",
   "metadata": {},
   "source": [
    "## Methods: object.method(parameters)\n",
    "    a. Inbuilt functions to each objects, can be called by adding a period after the object (hit tab to get available methods) e.g. x.upper(), x.split()"
   ]
  },
  {
   "cell_type": "code",
   "execution_count": 19,
   "metadata": {},
   "outputs": [
    {
     "name": "stdout",
     "output_type": "stream",
     "text": [
      "This is a string INSERT, Insert\n"
     ]
    }
   ],
   "source": [
    "# Adding two variables to the string using format method \n",
    "\n",
    "print ('This is a string {}, {}'.format('INSERT', 'Insert'))"
   ]
  },
  {
   "cell_type": "markdown",
   "metadata": {},
   "source": [
    "## String Interpolation - Print Formatting\n",
    "\n",
    "### 1. Formating with .format() Method\n",
    "A good way to format objects into your string for print statements is with the string.format method\n",
    "\n",
    "#### Syntax - 'String {} {}'. format('something1', 'something2')\n",
    "1. Helps to stick a variable to a string\n",
    "2. Can add as many variables - Indexing can also be done"
   ]
  },
  {
   "cell_type": "code",
   "execution_count": 16,
   "metadata": {},
   "outputs": [
    {
     "name": "stdout",
     "output_type": "stream",
     "text": [
      "The brown brown brown\n"
     ]
    }
   ],
   "source": [
    "# Indexing to inserting the string variables\n",
    "\n",
    "#print ('The {2} {0} {1}'.format('brown', 'fox', 'quick'))\n",
    "print ('The {0} {0} {0}'.format('brown', 'fox', 'quick'))"
   ]
  },
  {
   "cell_type": "code",
   "execution_count": 27,
   "metadata": {},
   "outputs": [
    {
     "name": "stdout",
     "output_type": "stream",
     "text": [
      "The quick brown fox\n"
     ]
    }
   ],
   "source": [
    "# With Variable assignment\n",
    "\n",
    "print ('The {q} {b} {f}'.format(b ='brown', f ='fox', q = 'quick'))"
   ]
  },
  {
   "cell_type": "markdown",
   "metadata": {},
   "source": [
    "### Float Formatting follows \"{value:width.precision f}\""
   ]
  },
  {
   "cell_type": "code",
   "execution_count": 14,
   "metadata": {},
   "outputs": [],
   "source": [
    "result = 1/7"
   ]
  },
  {
   "cell_type": "code",
   "execution_count": 40,
   "metadata": {},
   "outputs": [
    {
     "name": "stdout",
     "output_type": "stream",
     "text": [
      "The result was 0.14286\n"
     ]
    }
   ],
   "source": [
    "print ('The result was {r:1.5f}'.format (r = result))"
   ]
  },
  {
   "cell_type": "code",
   "execution_count": 42,
   "metadata": {},
   "outputs": [
    {
     "name": "stdout",
     "output_type": "stream",
     "text": [
      "add something1 here something2\n"
     ]
    }
   ],
   "source": [
    "# Older version - %s to inject a string\n",
    "\n",
    "print ('add %s here %s' % ('something1', 'something2'))"
   ]
  },
  {
   "cell_type": "markdown",
   "metadata": {},
   "source": [
    "### F-string - Formated String Literals"
   ]
  },
  {
   "cell_type": "code",
   "execution_count": 15,
   "metadata": {},
   "outputs": [
    {
     "name": "stdout",
     "output_type": "stream",
     "text": [
      "The result was 0.14286\n"
     ]
    }
   ],
   "source": [
    "#.Format\n",
    "print ('The result was {r:1.5f}'.format(r = result))"
   ]
  },
  {
   "cell_type": "code",
   "execution_count": 37,
   "metadata": {},
   "outputs": [
    {
     "name": "stdout",
     "output_type": "stream",
     "text": [
      "The result was 100.14286\n",
      "The result was 100.14\n"
     ]
    }
   ],
   "source": [
    "# replace the .format call with a 'f' in the begining \n",
    "print ('The result was {r:1.5f}'.format(r = 100.14286))\n",
    "print (f'The result was {100.14286:{1}.{5}}')"
   ]
  },
  {
   "cell_type": "code",
   "execution_count": 21,
   "metadata": {},
   "outputs": [
    {
     "name": "stdout",
     "output_type": "stream",
     "text": [
      "Sam is 8 years old\n"
     ]
    }
   ],
   "source": [
    "name = 'Sam'\n",
    "age = 8\n",
    "print (f'{name} is {age} years old')"
   ]
  },
  {
   "cell_type": "markdown",
   "metadata": {},
   "source": [
    "### Alignment, padding and precision with .format()"
   ]
  },
  {
   "cell_type": "code",
   "execution_count": 27,
   "metadata": {},
   "outputs": [
    {
     "name": "stdout",
     "output_type": "stream",
     "text": [
      "Fruit | Quantity \n",
      "Apples   |       3.0\n",
      "Oranges  |        10\n"
     ]
    }
   ],
   "source": [
    "# Within the curly braces you can assign field lengths, left/right alignments, rounding parameters and more\n",
    "\n",
    "print('{0:4} | {1:9}'.format('Fruit', 'Quantity'))\n",
    "print('{0:8} | {1:9}'.format('Apples', 3.))\n",
    "print('{0:8} | {1:9}'.format('Oranges', 10))"
   ]
  },
  {
   "cell_type": "code",
   "execution_count": 5,
   "metadata": {},
   "outputs": [
    {
     "name": "stdout",
     "output_type": "stream",
     "text": [
      "He said his name is 'a'\n"
     ]
    }
   ],
   "source": [
    "#Pass !r to get the string representation:\n",
    "print(f\"He said his name is {name!r}\")"
   ]
  },
  {
   "cell_type": "code",
   "execution_count": 20,
   "metadata": {},
   "outputs": [
    {
     "name": "stdout",
     "output_type": "stream",
     "text": [
      "My 10 character, four decimal number is:   23.4500\n",
      "My 10 character, four decimal number is:     23.45\n"
     ]
    }
   ],
   "source": [
    "#Note that with f-strings, precision refers to the total number of digits, not just those following the decimal\n",
    "#This fits more closely with scientific notation and statistical analysis\n",
    "#Unfortunately, f-strings do not pad to the right of the decimal, even if precision allows it:\n",
    "\n",
    "num = 23.45\n",
    "print(\"My 10 character, four decimal number is:{0:10.4f}\".format(num))\n",
    "print(f\"My 10 character, four decimal number is:{num:{10}.{4}}\")"
   ]
  },
  {
   "cell_type": "code",
   "execution_count": 27,
   "metadata": {},
   "outputs": [
    {
     "name": "stdout",
     "output_type": "stream",
     "text": [
      "This is a string with an 1.567\n"
     ]
    }
   ],
   "source": [
    " print(f'This is a string with an {1.566666:1.3f}')"
   ]
  },
  {
   "cell_type": "code",
   "execution_count": null,
   "metadata": {},
   "outputs": [],
   "source": []
  }
 ],
 "metadata": {
  "kernelspec": {
   "display_name": "Python 3",
   "language": "python",
   "name": "python3"
  },
  "language_info": {
   "codemirror_mode": {
    "name": "ipython",
    "version": 3
   },
   "file_extension": ".py",
   "mimetype": "text/x-python",
   "name": "python",
   "nbconvert_exporter": "python",
   "pygments_lexer": "ipython3",
   "version": "3.6.4"
  },
  "toc": {
   "base_numbering": 1,
   "nav_menu": {},
   "number_sections": true,
   "sideBar": true,
   "skip_h1_title": false,
   "title_cell": "Table of Contents",
   "title_sidebar": "Contents",
   "toc_cell": false,
   "toc_position": {},
   "toc_section_display": true,
   "toc_window_display": true
  }
 },
 "nbformat": 4,
 "nbformat_minor": 2
}
