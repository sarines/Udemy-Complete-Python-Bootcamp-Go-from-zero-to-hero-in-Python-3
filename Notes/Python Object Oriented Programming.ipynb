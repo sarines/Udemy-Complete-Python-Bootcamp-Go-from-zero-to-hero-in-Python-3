{
 "cells": [
  {
   "cell_type": "markdown",
   "metadata": {},
   "source": [
    "# Object Oriented Programming (OOP)\n",
    "\n",
    "1. Allows programmers to create their own objects that have methods and attributes\n",
    "2. These methods act as functions that use information about the object, as well as objects itself to return results or change the current objects\n",
    "3. For larger python scrpits functions themselves are not enough for organization and repeatability\n",
    "4. Commonly repeated tasks and objects can be defined with OOP to create codes that are more usable\n",
    "\n",
    " 1. objects are defined using `class` key word [name of class by camel casing] --> variable and function in lower case\n",
    " 2. the def syntax similar to function which is below the class - method when it is inside a class call\n",
    " 3. _init_ method - allows us to create an instance for the actual object\n",
    " 4. param 1,2 are the parameters python expects you to pass when you actually use instance of this object\n",
    " 5. When you pass in the parameter, python goes ahead and assigns it to the attribute of the function\n",
    " 6. the 'self'in the 2nd 'def' key word in the python suggests that it is not a function, but method that's connected to the class \n",
    "<code>\n",
    "class NameOfClass(): \n",
    "    def __init__(self, param1, param2):\n",
    "        self.param1 = param1\n",
    "        self.param2 = Param2\n",
    "    def some_method (self):\n",
    "    peform some action </code>\n",
    "    \n",
    "    "
   ]
  },
  {
   "cell_type": "markdown",
   "metadata": {},
   "source": [
    "## Class Key Word\n",
    "*Classes provide a means of bundling data and functionality together. Creating a new class creates a new type of object, allowing new instances of that type to be made. Each class instance can have attributes attached to it for maintaining its state. Class instances can also have methods (defined by its class) for modifying its state.*\n",
    "\n",
    "1. **User defined objects** are created using the <code>class</code> keyword\n",
    "2. The class is a blueprint that **defines the nature of a future object**. From classes we can **construct instances**\n",
    "3. *An **instance** is a specific object created from a particular class*. For example, `lst = [1,2,3]` the object <code>lst</code> which is an instance of a list object. \n",
    "\n",
    "Classes can be thought of as blueprints for creating objects. **When I define a Customer class using the class keyword, I haven't actually created a customer. Instead, what I've created is a sort of instruction manual for constructing \"customer\" objects**"
   ]
  },
  {
   "cell_type": "code",
   "execution_count": 6,
   "metadata": {},
   "outputs": [
    {
     "name": "stdout",
     "output_type": "stream",
     "text": [
      "<class '__main__.Sample'>\n"
     ]
    }
   ],
   "source": [
    "# Create a new object type called Sample\n",
    "class Sample():\n",
    "    pass\n",
    "# Instance of Sample\n",
    "x = Sample()\n",
    "\n",
    "print(type(x))"
   ]
  },
  {
   "cell_type": "markdown",
   "metadata": {},
   "source": [
    "By convention we give classes a name that starts with a capital letter. Note how <code>x</code> is now the reference to our **new instance of a Sample class**. In other words, we **instantiate** the Sample class.\n",
    "\n",
    "Inside of the class we currently just have pass. But we can define **class attributes and methods.**\n",
    "\n",
    "1. An **attribute** is a characteristic of an object.\n",
    "2. A **method** is an operation we can perform with the object.\n",
    "\n",
    "For example, we can create a class called Dog. An attribute of a dog may be its breed or its name, while a method of a dog may be defined by a .bark() method which returns a sound.\n",
    "\n",
    "## Attributes\n",
    "\n",
    "The syntax for creating an attribute is:\n",
    "    \n",
    "    self.attribute = something\n",
    "    \n",
    "There is a special method called:\n",
    "\n",
    "    __init__(): is a special method, which is called class constructor or initialization method that Python calls when you create a new instance of this class\n",
    "    \n",
    "This method is used to initialize the attributes of an object. For example:"
   ]
  },
  {
   "cell_type": "code",
   "execution_count": 9,
   "metadata": {},
   "outputs": [],
   "source": [
    "class Dog:\n",
    "    def __init__(self,breed):\n",
    "        self.breed = breed\n",
    "        \n",
    "sam = Dog(breed='Lab')\n",
    "frank = Dog(breed='Huskie')"
   ]
  },
  {
   "cell_type": "markdown",
   "metadata": {},
   "source": [
    "Lets break down what we have above.The special method \n",
    "\n",
    "1. `__init__()` constructor for a class - called upon when you **create an instance **of a class. It is called automatically right after the object has been created:\n",
    "2. `def __init__(self, breed)`: **self key word connects the **method to instance of the class** (represents the instance of object itself).**\n",
    "**Each attribute in a class definition begins with a reference to the instance object. It is by convention named self. The breed is the argument. The value is passed during the class instantiation.**\n",
    "\n",
    "     self.breed = breed\n",
    "Now we have created two instances of the Dog class. With two breed types, we can then access these attributes like this:"
   ]
  },
  {
   "cell_type": "code",
   "execution_count": 10,
   "metadata": {},
   "outputs": [
    {
     "data": {
      "text/plain": [
       "'Lab'"
      ]
     },
     "execution_count": 10,
     "metadata": {},
     "output_type": "execute_result"
    }
   ],
   "source": [
    "sam.breed"
   ]
  },
  {
   "cell_type": "code",
   "execution_count": 4,
   "metadata": {},
   "outputs": [
    {
     "data": {
      "text/plain": [
       "'Huskie'"
      ]
     },
     "execution_count": 4,
     "metadata": {},
     "output_type": "execute_result"
    }
   ],
   "source": [
    "frank.breed"
   ]
  },
  {
   "cell_type": "markdown",
   "metadata": {},
   "source": [
    "You can add, remove, or modify attributes of classes and objects at any time −\n",
    "\n"
   ]
  },
  {
   "cell_type": "code",
   "execution_count": 8,
   "metadata": {},
   "outputs": [
    {
     "name": "stdout",
     "output_type": "stream",
     "text": [
      "Name :  Zara , Salary:  2000\n",
      "Name :  Manni , Salary:  5000\n",
      "Total Employee 2\n"
     ]
    }
   ],
   "source": [
    "class Employee:\n",
    "    \n",
    "   empCount = 0\n",
    "\n",
    "   def __init__(self, name, salary):\n",
    "      self.name = name\n",
    "      self.salary = salary\n",
    "      Employee.empCount += 1\n",
    "   \n",
    "   def displayCount(self):\n",
    "     print (f'Total Employee: {Employee.empCount}')\n",
    "\n",
    "   def displayEmployee(self):\n",
    "      print (\"Name : \", self.name,  \", Salary: \", self.salary)\n",
    "\n",
    "#This would create first object of Employee class\n",
    "emp1 = Employee(\"Zara\", 2000)\n",
    "#This would create second object of Employee class\n",
    "emp2 = Employee(\"Manni\", 5000)\n",
    "emp1.displayEmployee()\n",
    "emp2.displayEmployee()\n",
    "print (f'Total Employee {Employee.empCount}')"
   ]
  },
  {
   "cell_type": "code",
   "execution_count": 12,
   "metadata": {},
   "outputs": [],
   "source": [
    "#hasattr(emp1, 'age')    # Returns true if 'age' attribute exists\n",
    "#getattr(emp1, 'age')    # Returns value of 'age' attribute\n",
    "setattr(emp1, 'age', 8) # Set attribute 'age' at 8\n",
    "#delattr(empl, 'age')    # Delete attribute 'age'"
   ]
  },
  {
   "cell_type": "code",
   "execution_count": 14,
   "metadata": {},
   "outputs": [
    {
     "name": "stdout",
     "output_type": "stream",
     "text": [
      "<__main__.Employee object at 0x00000000058FF438>\n"
     ]
    }
   ],
   "source": [
    "print (emp1)"
   ]
  },
  {
   "cell_type": "markdown",
   "metadata": {},
   "source": [
    "Note how we don't have any parentheses after breed; this is because it is an **attribute and doesn't take any arguments.**\n",
    "\n",
    "In Python there are also **class object attributes. These Class Object Attributes are the same for any instance of the class.** \n",
    "For example, we could create the attribute *species* for the Dog class. Dogs, regardless of their breed, name, or other attributes, will always be mammals. We apply this logic in the following manner:"
   ]
  },
  {
   "cell_type": "code",
   "execution_count": 7,
   "metadata": {},
   "outputs": [],
   "source": [
    "class Dog: #Creates the object\n",
    "    \n",
    "    # Class Object Attribute - same for any instance of the class\n",
    "    species = 'mammal'\n",
    "    \n",
    "    # Create instance for the class (object) --> User Defined Attributes w init method\n",
    "    def __init__(self,breed,name): #def - creates instance; __init__: method intiates attribute; self connects method to instance\n",
    "        self.breed = breed #creating an attribute, Each attribute in a class definition begins with a reference to the instance object\n",
    "        self.name = name"
   ]
  },
  {
   "cell_type": "code",
   "execution_count": 8,
   "metadata": {},
   "outputs": [],
   "source": [
    "sam = Dog('Lab','Sam')"
   ]
  },
  {
   "cell_type": "code",
   "execution_count": 8,
   "metadata": {},
   "outputs": [
    {
     "data": {
      "text/plain": [
       "'Sam'"
      ]
     },
     "execution_count": 8,
     "metadata": {},
     "output_type": "execute_result"
    }
   ],
   "source": [
    "sam.name"
   ]
  },
  {
   "cell_type": "markdown",
   "metadata": {},
   "source": [
    "Note that the Class Object Attribute is defined outside of any methods in the class. Also by convention, we place them first before the init."
   ]
  },
  {
   "cell_type": "code",
   "execution_count": 9,
   "metadata": {},
   "outputs": [
    {
     "data": {
      "text/plain": [
       "'mammal'"
      ]
     },
     "execution_count": 9,
     "metadata": {},
     "output_type": "execute_result"
    }
   ],
   "source": [
    "sam.species"
   ]
  },
  {
   "cell_type": "markdown",
   "metadata": {},
   "source": [
    "## Example  - Jeff Knupp\n",
    "https://jeffknupp.com/blog/2014/06/18/improve-your-python-python-classes-and-object-oriented-programming/"
   ]
  },
  {
   "cell_type": "code",
   "execution_count": 15,
   "metadata": {},
   "outputs": [],
   "source": [
    "class Customer(object):\n",
    "    \"\"\"A customer of ABC Bank with a checking account. Customers have the\n",
    "    following properties:\n",
    "\n",
    "    Attributes:\n",
    "        name: A string representing the customer's name.\n",
    "        balance: A float tracking the current balance of the customer's account.\n",
    "    \"\"\"\n",
    "\n",
    "    def __init__(self, name, balance=0.0):\n",
    "        \"\"\"Return a Customer object whose name is *name* and starting\n",
    "        balance is *balance*.\"\"\"\n",
    "        self.name = name\n",
    "        self.balance = balance\n",
    "\n",
    "    def withdraw(self, amount):\n",
    "        \"\"\"Return the balance remaining after withdrawing *amount*\n",
    "        dollars.\"\"\"\n",
    "        if amount > self.balance:\n",
    "            raise RuntimeError('Amount greater than available balance.')\n",
    "        self.balance -= amount\n",
    "        return self.balance\n",
    "\n",
    "    def deposit(self, amount):\n",
    "        \"\"\"Return the balance remaining after depositing *amount*\n",
    "        dollars.\"\"\"\n",
    "        self.balance += amount\n",
    "        return self.balance"
   ]
  },
  {
   "cell_type": "markdown",
   "metadata": {},
   "source": [
    "1. The `class Customer(object)` line does not create a new customer. That is, just because we've defined a Customer doesn't mean we've created one; we've merely outlined the blueprint to create a Customer object\n",
    "2. To do so, we call the class's `__init__` method with the proper number of arguments (minus self, which we'll get to in a moment)\n",
    "3. So, to use the \"blueprint\" that we created by defining the `class Customer` (which is used to create Customer objects), we `call the class name almost as if it were a function: jeff = Customer('Jeff Knupp', 1000.0)`. This line simply says \"use the Customer blueprint to create me a new object, which I'll refer to as jeff.\"\n",
    "4. The `jeff object`, known as an `instance`, is the realized version of the `Customer class`. Before we called Customer(), no Customer object existed. **We can, create as many Customer objects as we'd like**. There is still, however, **only one Customer class, regardless of how many instances of the class we create**\n",
    "5. `self` **parameter in the customer methods**: \n",
    "    1. A `method` like `withdraw` defines the instructions for withdrawing money from some abstract customer's account. Calling `jeff.withdraw(100.0)` puts those instructions to use on the jeff instance\n",
    "    2. So when we say `def withdraw(self, amount):`, we're saying, \"here's how you withdraw money from a **Customer object (which we'll call self)** and a dollar figure (which we'll call amount). `self` is the **instance of the Customer that withdraw is being called on**\n",
    "6. `__init__`: when we call `__init__`, we initialize objects by saying things like `self.name = name`\n",
    "    Since **self is the instance**, this is **equivalent to** saying `jeff.name = name`, which is the same as `jeff.name = 'Jeff Knupp`. Similarly, `self.balance = balance` is the same as `jeff.balance = 1000.0`. After these two lines, we consider the Customer object \"initialized\" and ready for use.\n",
    "7. After __init__ has finished, the caller can rightly assume that the object is ready to use; **fully initialized object**\n",
    "8. The rule of thumb is, **don't introduce a new attribute outside of the __init__ method**, otherwise you've given the caller an object that isn't fully initialized. This is part of a larger concept of object consistency: there shouldn't be any series of method calls that can result in the object entering a state that doesn't make sense."
   ]
  },
  {
   "cell_type": "markdown",
   "metadata": {},
   "source": [
    "## Methods\n",
    "1. Methods are **functions defined inside the body of a class**\n",
    "2. They are used to **perform operations with the attributes of our objects**\n",
    "3. Methods are a key concept of the OOP paradigm. They are essential to dividing responsibilities in programming, especially in large applications.\n",
    "\n",
    "You can basically think of methods as functions acting on an Object that take the Object itself into account through its *self* argument.\n",
    "### Method e.g.1"
   ]
  },
  {
   "cell_type": "code",
   "execution_count": 17,
   "metadata": {},
   "outputs": [],
   "source": [
    "class Dog():\n",
    "    \n",
    "    def __init__(self, breed, name):\n",
    "        self.breed = breed\n",
    "        self.name = name\n",
    "        \n",
    "    def bark(self, number): #always add a self key word () + referece to the attributes by calling them by self.\n",
    "        print (f'Whoofe!! My name is {self.name} and number is {number}') #number doesnt require self key word as \n",
    "                                                                        #not referenced to te class instance, but it is a user input\n",
    "    "
   ]
  },
  {
   "cell_type": "code",
   "execution_count": 18,
   "metadata": {},
   "outputs": [],
   "source": [
    "check = Dog('lab', 'Bruno')"
   ]
  },
  {
   "cell_type": "code",
   "execution_count": 20,
   "metadata": {},
   "outputs": [
    {
     "name": "stdout",
     "output_type": "stream",
     "text": [
      "Whoofe!! My name is Bruno and number is 1\n"
     ]
    }
   ],
   "source": [
    "check.bark(1)"
   ]
  },
  {
   "cell_type": "markdown",
   "metadata": {},
   "source": [
    "### Method e.g. 2\n",
    "It is not necessary that an attribute should be defined in a parameter call (e.g. - attribute area defined below)"
   ]
  },
  {
   "cell_type": "code",
   "execution_count": 22,
   "metadata": {},
   "outputs": [],
   "source": [
    "class Circle:\n",
    "    pi = 3.14\n",
    "\n",
    "    # Circle gets instantiated with a radius (default is 1)\n",
    "    def __init__(self, radius=1):\n",
    "        self.radius = radius \n",
    "        self.area = radius * radius * Circle.pi\n",
    "\n",
    "    # Method for resetting Radius\n",
    "    def setRadius(self, new_radius):\n",
    "        self.radius = new_radius\n",
    "        self.area = new_radius * new_radius * self.pi\n",
    "\n",
    "    # Method for getting Circumference\n",
    "    def getCircumference(self):\n",
    "        return self.radius * self.pi * 2\n",
    "\n",
    "c = Circle()    "
   ]
  },
  {
   "cell_type": "code",
   "execution_count": 24,
   "metadata": {},
   "outputs": [
    {
     "name": "stdout",
     "output_type": "stream",
     "text": [
      "Radius is:  7\n",
      "Area is:  153.86\n",
      "Circumference is:  43.96\n"
     ]
    }
   ],
   "source": [
    "c.setRadius(7)\n",
    "print('Radius is: ',c.radius)\n",
    "print('Area is: ',c.area)\n",
    "print('Circumference is: ',c.getCircumference())"
   ]
  },
  {
   "cell_type": "markdown",
   "metadata": {},
   "source": [
    "### Instance Attributes and Methods\n",
    "1. A function defined in a class is called a \"method\"\n",
    "2. Methods have access to all the data contained on the instance of the object; they can access and modify anything previously **set on self**\n",
    "3. **Because they use self, they require an instance of the class in order to be used. For this reason, they're often referred to as \"instance methods\"**\n",
    "4. `Static Methods`: \n",
    "    1. Class attributes are attributes that are set at the class-level, as opposed to the instance-level\n",
    "    2. Normal attributes are introduced in the __init__ method, but some attributes of a class hold for all instances in all cases\n",
    "    3. There is a class of methods, though, called **static methods**, that don't have access to self. Just like class attributes, they are methods that **work without requiring an instance to be present**. Since instances are always referenced through self, static methods have no self parameter.\n",
    "#### Static Method\n",
    "    4. To make it clear that *this method should not receive the instance as the first parameter (i.e. self on \"normal\" methods)*, the `@staticmethod decorator` is used, turning our definition into:"
   ]
  },
  {
   "cell_type": "code",
   "execution_count": 5,
   "metadata": {},
   "outputs": [],
   "source": [
    "class Car(object):\n",
    "    @staticmethod\n",
    "    def make_car_sound(): #static method\n",
    "        print ('VRooooommmm!!')\n",
    "    \n",
    "    #class attribute\n",
    "    wheels = 4\n",
    "\n",
    "    def __init__(self, make, model):\n",
    "        self.make = make\n",
    "        self.model = model"
   ]
  },
  {
   "cell_type": "code",
   "execution_count": 8,
   "metadata": {},
   "outputs": [
    {
     "name": "stdout",
     "output_type": "stream",
     "text": [
      "4\n",
      "4\n"
     ]
    }
   ],
   "source": [
    "mustang = Car('Ford', 'Mustang')\n",
    "print (mustang.wheels)\n",
    "print (Car.wheels)"
   ]
  },
  {
   "cell_type": "code",
   "execution_count": 9,
   "metadata": {},
   "outputs": [
    {
     "name": "stdout",
     "output_type": "stream",
     "text": [
      "VRooooommmm!!\n"
     ]
    }
   ],
   "source": [
    "mustang.make_car_sound()"
   ]
  },
  {
   "cell_type": "markdown",
   "metadata": {},
   "source": [
    "#### Class Method\n",
    "1. A variant of the static method is the class method. Instead of receiving the instance as the first parameter, it is passed the class. It, too, is defined using a decorator:@classmethod\n",
    "2. Class methods most often used in connection with: **inheritance**"
   ]
  },
  {
   "cell_type": "code",
   "execution_count": 10,
   "metadata": {},
   "outputs": [],
   "source": [
    "class Vehicle(object):\n",
    "    ...\n",
    "    @classmethod\n",
    "    def is_motorcycle(cls):\n",
    "        return cls.wheels == 2"
   ]
  },
  {
   "cell_type": "markdown",
   "metadata": {},
   "source": [
    "## Inheritance\n",
    "\n",
    "1. Inheritance is a way to **form new classes** using classes that have **already been defined**\n",
    "2. The newly formed classes are called **derived classes**, the classes that we derive from are called **base classes**\n",
    "3. Important benefits of inheritance are code reuse and reduction of complexity of a program\n",
    "4. The derived classes (descendants) *override or extend the functionality of base classes (ancestors)*; i.e. we can overwrite or add-on new methods and attributes\n",
    "\n",
    "### e.g. for inheritance Base Class"
   ]
  },
  {
   "cell_type": "code",
   "execution_count": 34,
   "metadata": {},
   "outputs": [],
   "source": [
    "class Animal():\n",
    "    \n",
    "    def __init__ (self):\n",
    "        print ('Animal Created!')\n",
    "        \n",
    "    def who_am_I (self):\n",
    "        print('I am an animal')\n",
    "        \n",
    "    def eat (self):\n",
    "        print ('I am eating')"
   ]
  },
  {
   "cell_type": "code",
   "execution_count": 39,
   "metadata": {},
   "outputs": [
    {
     "name": "stdout",
     "output_type": "stream",
     "text": [
      "Animal Created!\n",
      "I am an animal\n",
      "I am eating\n"
     ]
    }
   ],
   "source": [
    "animal = Animal()\n",
    "animal.who_am_I()\n",
    "animal.eat()"
   ]
  },
  {
   "cell_type": "markdown",
   "metadata": {},
   "source": [
    "### Derived Class\n",
    "1. All the methods available in the base class is available in the derived class"
   ]
  },
  {
   "cell_type": "code",
   "execution_count": 60,
   "metadata": {},
   "outputs": [],
   "source": [
    "class Dog(Animal): #Add the base class name in ()\n",
    "    def __init__(self):\n",
    "        print ('Dog is created!')\n",
    "        Animal.__init__ (self) #Inheriting from the base class\n",
    "        \n",
    "    def eat(self): #Overwriting base method\n",
    "        print ('I am not eating!')\n",
    "    def bark(self):\n",
    "        print ('Woof!')"
   ]
  },
  {
   "cell_type": "code",
   "execution_count": 61,
   "metadata": {},
   "outputs": [
    {
     "name": "stdout",
     "output_type": "stream",
     "text": [
      "Dog is created!\n",
      "Animal Created!\n"
     ]
    }
   ],
   "source": [
    "dog = Dog()"
   ]
  },
  {
   "cell_type": "code",
   "execution_count": 62,
   "metadata": {},
   "outputs": [
    {
     "name": "stdout",
     "output_type": "stream",
     "text": [
      "Woof!\n"
     ]
    }
   ],
   "source": [
    "dog.bark()"
   ]
  },
  {
   "cell_type": "markdown",
   "metadata": {},
   "source": [
    "## Polymorphism\n",
    "1. Functions can take in different arguments, methods belong to the objects they act on\n",
    "2. In Python, *polymorphism* refers to the way in which different object classes can share the same method name, and those methods can be called from the same place even though a variety of different objects might be passed in."
   ]
  },
  {
   "cell_type": "code",
   "execution_count": 64,
   "metadata": {},
   "outputs": [
    {
     "name": "stdout",
     "output_type": "stream",
     "text": [
      "Niko says Woof!\n",
      "Felix says Meow!\n"
     ]
    }
   ],
   "source": [
    "class Dog:\n",
    "    def __init__(self, name):\n",
    "        self.name = name\n",
    "\n",
    "    def speak(self):\n",
    "        return self.name+' says Woof!'\n",
    "    \n",
    "class Cat:\n",
    "    def __init__(self, name):\n",
    "        self.name = name\n",
    "\n",
    "    def speak(self):\n",
    "        return self.name+' says Meow!' \n",
    "    \n",
    "niko = Dog('Niko')\n",
    "felix = Cat('Felix')\n",
    "\n",
    "print(niko.speak())\n",
    "print(felix.speak())"
   ]
  },
  {
   "cell_type": "markdown",
   "metadata": {},
   "source": [
    "Here we have a Dog class and a Cat class, and each has a `.speak()` method. When called, each object's `.speak()` method returns a result unique to the object.\n",
    "In both cases below, we were able to pass in different object types, and we obtained object-specific results from the same mechanism."
   ]
  },
  {
   "cell_type": "code",
   "execution_count": 65,
   "metadata": {},
   "outputs": [
    {
     "name": "stdout",
     "output_type": "stream",
     "text": [
      "Niko says Woof!\n",
      "Felix says Meow!\n"
     ]
    }
   ],
   "source": [
    "def pet_speak(pet):\n",
    "    print(pet.speak())\n",
    "\n",
    "pet_speak(niko)\n",
    "pet_speak(felix)"
   ]
  },
  {
   "cell_type": "markdown",
   "metadata": {},
   "source": [
    "**A more common practice is to use abstract classes and inheritance. An abstract class is one that never expects to be instantiated**. For example, we will never have an Animal object, only Dog and Cat objects, although Dogs and Cats are derived from Animals:"
   ]
  },
  {
   "cell_type": "code",
   "execution_count": null,
   "metadata": {},
   "outputs": [],
   "source": [
    "class Animal:\n",
    "    def __init__(self, name):    # Constructor of the class\n",
    "        self.name = name\n",
    "\n",
    "    def speak(self):              # Abstract method, defined by convention only\n",
    "        raise NotImplementedError(\"Subclass must implement abstract method\")\n",
    "\n",
    "\n",
    "class Dog(Animal):\n",
    "    \n",
    "    def speak(self):\n",
    "        return self.name+' says Woof!'\n",
    "    \n",
    "class Cat(Animal):\n",
    "\n",
    "    def speak(self):\n",
    "        return self.name+' says Meow!'\n",
    "    \n",
    "fido = Dog('Fido')\n",
    "isis = Cat('Isis')\n",
    "\n",
    "print(fido.speak())\n",
    "print(isis.speak())"
   ]
  },
  {
   "cell_type": "markdown",
   "metadata": {},
   "source": [
    "Real life examples of polymorphism include:\n",
    "1. opening different file types - different tools are needed to display Word, pdf and Excel files\n",
    "2. adding different objects - the `+` operator performs arithmetic and concatenation"
   ]
  },
  {
   "cell_type": "markdown",
   "metadata": {},
   "source": [
    "## Special Magic/ Dunder Methods\n",
    "\n",
    "Classes in Python can implement certain operations with special method names. These methods are not actually called directly but by Python specific language syntax.\n",
    "Special methods allows us to use built in methods in python on the user defined objects"
   ]
  },
  {
   "cell_type": "code",
   "execution_count": 80,
   "metadata": {},
   "outputs": [],
   "source": [
    "class Book():\n",
    "    def __init__(special, title, author, pages):\n",
    "        special.title = title\n",
    "        special.author = author\n",
    "        special.pages = pages\n",
    "    def __str__(special):\n",
    "        return (f'The book {special.title} is by {special.author}')\n",
    "    def __len__(special):\n",
    "        return special.pages\n",
    "    def __del__(special):\n",
    "        print ('The object is deleted')"
   ]
  },
  {
   "cell_type": "code",
   "execution_count": 81,
   "metadata": {},
   "outputs": [],
   "source": [
    "book = Book('Me','Jose',90)"
   ]
  },
  {
   "cell_type": "code",
   "execution_count": 82,
   "metadata": {},
   "outputs": [
    {
     "name": "stdout",
     "output_type": "stream",
     "text": [
      "The book Me is by Jose\n"
     ]
    }
   ],
   "source": [
    "print (book)"
   ]
  },
  {
   "cell_type": "code",
   "execution_count": 83,
   "metadata": {},
   "outputs": [
    {
     "data": {
      "text/plain": [
       "90"
      ]
     },
     "execution_count": 83,
     "metadata": {},
     "output_type": "execute_result"
    }
   ],
   "source": [
    "len (book)"
   ]
  },
  {
   "cell_type": "code",
   "execution_count": 84,
   "metadata": {},
   "outputs": [
    {
     "name": "stdout",
     "output_type": "stream",
     "text": [
      "The object is deleted\n"
     ]
    }
   ],
   "source": [
    "del(book)"
   ]
  }
 ],
 "metadata": {
  "kernelspec": {
   "display_name": "Python 3",
   "language": "python",
   "name": "python3"
  },
  "toc": {
   "base_numbering": 1,
   "nav_menu": {},
   "number_sections": true,
   "sideBar": true,
   "skip_h1_title": false,
   "title_cell": "Table of Contents",
   "title_sidebar": "Contents",
   "toc_cell": false,
   "toc_position": {},
   "toc_section_display": true,
   "toc_window_display": true
  }
 },
 "nbformat": 4,
 "nbformat_minor": 2
}
