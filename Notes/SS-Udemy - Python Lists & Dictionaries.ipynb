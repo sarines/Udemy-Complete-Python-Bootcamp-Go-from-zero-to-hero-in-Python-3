{
 "cells": [
  {
   "cell_type": "markdown",
   "metadata": {},
   "source": [
    "# To get the working directory\n",
    "In order to load files, we need to make sure the input files are in the same location as Py directory"
   ]
  },
  {
   "cell_type": "code",
   "execution_count": 14,
   "metadata": {},
   "outputs": [
    {
     "data": {
      "text/plain": [
       "'C:\\\\Users\\\\ssebastian\\\\Desktop\\\\0000-Udemy\\\\01-Complete Python Boot Camp'"
      ]
     },
     "execution_count": 14,
     "metadata": {},
     "output_type": "execute_result"
    }
   ],
   "source": [
    "pwd"
   ]
  },
  {
   "cell_type": "markdown",
   "metadata": {},
   "source": [
    "# Python Objects - Lists"
   ]
  },
  {
   "cell_type": "markdown",
   "metadata": {},
   "source": [
    "1. Unlike strings, they are mutable --> uses [] and ',' to separate the objects\n",
    "    list methods mutate the list\n",
    "2. Ordered sequences that can hold various data types\n",
    "3. Like strings supports indexing, slicing, concatenation\n",
    "4. they have no fixed size (meaning we don't have to specify how big a list will be), and they have no fixed type constraint (like we've seen above).\n"
   ]
  },
  {
   "cell_type": "code",
   "execution_count": 13,
   "metadata": {},
   "outputs": [
    {
     "name": "stdout",
     "output_type": "stream",
     "text": [
      "[1, 'four', 'nine']\n",
      "two\n"
     ]
    }
   ],
   "source": [
    "# List holds vari\n",
    "lst = [1,2,'four']\n",
    "lst [1] = 'two'\n",
    "lst.append('nine')\n",
    "popped_item = lst.pop(1)\n",
    "print (lst)\n",
    "print (popped_item)"
   ]
  },
  {
   "cell_type": "code",
   "execution_count": 14,
   "metadata": {},
   "outputs": [],
   "source": [
    "# .sort method --> doesn't return anything (return None type) but its gonna sort the list\n",
    "num_lst = [3,2,9,5,4]\n",
    "num_lst.sort()"
   ]
  },
  {
   "cell_type": "code",
   "execution_count": 15,
   "metadata": {},
   "outputs": [
    {
     "data": {
      "text/plain": [
       "[2, 3, 4, 5, 9]"
      ]
     },
     "execution_count": 15,
     "metadata": {},
     "output_type": "execute_result"
    }
   ],
   "source": [
    "num_lst"
   ]
  },
  {
   "cell_type": "markdown",
   "metadata": {},
   "source": [
    "## Nesting in Lists"
   ]
  },
  {
   "cell_type": "code",
   "execution_count": 16,
   "metadata": {},
   "outputs": [],
   "source": [
    "lst_2 = [[1,2,3],['one','two','three'],[1.87,0.8797]]"
   ]
  },
  {
   "cell_type": "code",
   "execution_count": 20,
   "metadata": {},
   "outputs": [
    {
     "name": "stdout",
     "output_type": "stream",
     "text": [
      "[1.87, 0.8797]\n",
      "three\n"
     ]
    }
   ],
   "source": [
    "print(lst_2 [2])\n",
    "print(lst_2 [1][2])"
   ]
  },
  {
   "cell_type": "markdown",
   "metadata": {},
   "source": [
    "## List Comprehension"
   ]
  },
  {
   "cell_type": "code",
   "execution_count": 27,
   "metadata": {},
   "outputs": [],
   "source": [
    "first_col = [row[0] for row in lst_2]"
   ]
  },
  {
   "cell_type": "code",
   "execution_count": 28,
   "metadata": {},
   "outputs": [
    {
     "data": {
      "text/plain": [
       "[1, 'one', 1.87]"
      ]
     },
     "execution_count": 28,
     "metadata": {},
     "output_type": "execute_result"
    }
   ],
   "source": [
    "first_col"
   ]
  },
  {
   "cell_type": "markdown",
   "metadata": {},
   "source": [
    "# Python Objects - Dictionaries"
   ]
  },
  {
   "cell_type": "code",
   "execution_count": null,
   "metadata": {},
   "outputs": [],
   "source": [
    "Unlike LISTS, dictionaries are unordered mappings in Python for storing objects --> using key-value pairs\n",
    "1. Key-value pairs helps to grab the objects wo knowing the index position\n",
    "2. Uses {}, ; to separate objects {'key1':'value1','key2':'value2'}\n",
    "3. Keys should always be strings"
   ]
  },
  {
   "cell_type": "markdown",
   "metadata": {},
   "source": [
    "## Dictionary vs. LIST\n",
    "\n",
    "### 1. Dictionaries - obj retrieved by key names and are not sorted and unordered\n",
    "\n",
    "### 1. LISTS -  obj retrieved by location and are ordered sequences that can be indexed and sliced\n",
    "\n"
   ]
  },
  {
   "cell_type": "code",
   "execution_count": 45,
   "metadata": {},
   "outputs": [],
   "source": [
    "my_dict = {'key1':'value1','key2':[1,2,3,'c'],'key4':{'nestkey':{'subnestkey':'value'}}}"
   ]
  },
  {
   "cell_type": "code",
   "execution_count": 50,
   "metadata": {},
   "outputs": [
    {
     "name": "stdout",
     "output_type": "stream",
     "text": [
      "C\n",
      "value\n"
     ]
    }
   ],
   "source": [
    "# # Can call an index on that value + nesting in dictionary\n",
    "\n",
    "print (my_dict['key2'][3].upper())\n",
    "print (my_dict['key4']['nestkey']['subnestkey'])"
   ]
  },
  {
   "cell_type": "code",
   "execution_count": 36,
   "metadata": {},
   "outputs": [
    {
     "name": "stdout",
     "output_type": "stream",
     "text": [
      "{'key1': 'value1', 'key2': [1, 2, 3, 'c'], 'key3': ['a', 'b']}\n",
      "{'key1': 'value1', 'key2': [1, 2, 3, 'c'], 'key3': '0'}\n"
     ]
    }
   ],
   "source": [
    "# adding new key-value\n",
    "my_dict['key3'] = ['a', 'b']\n",
    "print (my_dict)\n",
    "\n",
    "\n",
    "# changing existing value\n",
    "my_dict['key3'] = '0'\n",
    "print (my_dict)"
   ]
  },
  {
   "cell_type": "code",
   "execution_count": 41,
   "metadata": {},
   "outputs": [],
   "source": [
    "my_dict2 = {'key1':123,'key2':[12,23,33],'key3':['item0','item1','item2']}"
   ]
  },
  {
   "cell_type": "markdown",
   "metadata": {},
   "source": [
    "### A quick note, Python has a built-in method of doing a self subtraction or addition (or multiplication or division). We could have also used += or -= for the above statement."
   ]
  },
  {
   "cell_type": "code",
   "execution_count": 42,
   "metadata": {},
   "outputs": [
    {
     "name": "stdout",
     "output_type": "stream",
     "text": [
      "{'key1': 0, 'key2': [12, 23, 33], 'key3': ['item0', 'item1', 'item2']}\n",
      "{'key1': 123, 'key2': [12, 23, 33], 'key3': ['item0', 'item1', 'item2']}\n"
     ]
    }
   ],
   "source": [
    "my_dict2['key1'] = my_dict2['key1'] - 123\n",
    "print (my_dict2)\n",
    "\n",
    "my_dict2['key1'] += 123\n",
    "print (my_dict2)"
   ]
  },
  {
   "cell_type": "code",
   "execution_count": 44,
   "metadata": {},
   "outputs": [
    {
     "name": "stdout",
     "output_type": "stream",
     "text": [
      "{'animal': 'Dog', 'answer': 42}\n"
     ]
    }
   ],
   "source": [
    "# Create a new dictionary\n",
    "d = {}\n",
    "# Create a new key through assignment\n",
    "d['animal'] = 'Dog'\n",
    "d['answer'] = 42\n",
    "print (d)"
   ]
  },
  {
   "cell_type": "code",
   "execution_count": 61,
   "metadata": {},
   "outputs": [
    {
     "name": "stdout",
     "output_type": "stream",
     "text": [
      "dict_keys(['animal', 'answer'])\n",
      "dict_values(['Dog', 42])\n",
      "dict_items([('animal', 'Dog'), ('answer', 42)])\n"
     ]
    }
   ],
   "source": [
    "# Dictionary Methods\n",
    "print (d.keys())\n",
    "print (d.values())\n",
    "print (d.items())"
   ]
  },
  {
   "cell_type": "markdown",
   "metadata": {},
   "source": [
    "# TUPLES\n",
    "\n",
    "In Python tuples are very similar to lists, however, unlike lists they are *immutable* meaning they can not be changed. You would use tuples to present things that shouldn't be changed, such as days of the week, or dates on a calendar. \n",
    "\n",
    "1. Very similar to lists except that its immmutable\n",
    "2. Use parenthesis\n",
    "3. can add differnt data types + like lists --> slicing and indexing can be done"
   ]
  },
  {
   "cell_type": "code",
   "execution_count": 2,
   "metadata": {},
   "outputs": [
    {
     "name": "stdout",
     "output_type": "stream",
     "text": [
      "5\n",
      "2\n",
      "2\n"
     ]
    }
   ],
   "source": [
    "t = (1, 3, 'a', 'a', 'b')\n",
    "\n",
    "print (len(t))\n",
    "print (t.count('a'))\n",
    "print (t.index('a'))"
   ]
  },
  {
   "cell_type": "markdown",
   "metadata": {},
   "source": [
    "# SETS\n",
    "1. Unordered collection of unique elements"
   ]
  },
  {
   "cell_type": "code",
   "execution_count": 3,
   "metadata": {},
   "outputs": [],
   "source": [
    "myset = set()"
   ]
  },
  {
   "cell_type": "code",
   "execution_count": 8,
   "metadata": {},
   "outputs": [
    {
     "name": "stdout",
     "output_type": "stream",
     "text": [
      "{'4', 'c', 'a'}\n"
     ]
    }
   ],
   "source": [
    "myset.add('a')\n",
    "myset.add('c')\n",
    "myset.add('4')\n",
    "print (myset)"
   ]
  },
  {
   "cell_type": "code",
   "execution_count": 13,
   "metadata": {},
   "outputs": [
    {
     "name": "stdout",
     "output_type": "stream",
     "text": [
      "{0, 1, 4, 7, 9}\n",
      "{0, 1, 4, 7, 9}\n",
      "{'c', 'a'}\n"
     ]
    }
   ],
   "source": [
    "#it will only give a unique elements --> here the input list/ tuple/ txt -->  set returns only unique values\n",
    "\n",
    "lst = [1,1,1,1,0,7,9,4,4,4]\n",
    "tupl = (1,1,1,1,0,7,9,4,4,4)\n",
    "txt = 'aaaaaaaaccc'\n",
    "\n",
    "print (set(lst))\n",
    "print (set(tupl))\n",
    "print (set(txt))"
   ]
  },
  {
   "cell_type": "markdown",
   "metadata": {},
   "source": [
    "# Files - I/O w basic files in Python\n",
    "Python uses file objects to interact with external files on your computer. These file objects can be any sort of file you have on your computer. You will probably need to install certain libraries or modules to interact with those various file types, but they are easily available\n",
    "## Creating Text File in JN (syntax only works here)"
   ]
  },
  {
   "cell_type": "code",
   "execution_count": 15,
   "metadata": {},
   "outputs": [
    {
     "name": "stdout",
     "output_type": "stream",
     "text": [
      "Writing test.txt\n"
     ]
    }
   ],
   "source": [
    "%%writefile test.txt\n",
    "Hello, this is a quick test file.\n",
    "This is the Second line."
   ]
  },
  {
   "cell_type": "code",
   "execution_count": 16,
   "metadata": {},
   "outputs": [
    {
     "data": {
      "text/plain": [
       "'C:\\\\Users\\\\ssebastian\\\\Desktop\\\\0000-Udemy\\\\01-Complete Python Boot Camp'"
      ]
     },
     "execution_count": 16,
     "metadata": {},
     "output_type": "execute_result"
    }
   ],
   "source": [
    "pwd"
   ]
  },
  {
   "cell_type": "markdown",
   "metadata": {},
   "source": [
    "## Opening Text File + Methods"
   ]
  },
  {
   "cell_type": "code",
   "execution_count": 17,
   "metadata": {},
   "outputs": [],
   "source": [
    "myfile = open ('test.txt')"
   ]
  },
  {
   "cell_type": "code",
   "execution_count": 18,
   "metadata": {},
   "outputs": [
    {
     "data": {
      "text/plain": [
       "'Hello, this is a quick test file.\\nThis is the Second line.'"
      ]
     },
     "execution_count": 18,
     "metadata": {},
     "output_type": "execute_result"
    }
   ],
   "source": [
    "#Read Method (allows to get the entire string)\n",
    "# '\\n' is a new line character (escape sequences)\n",
    "myfile.read()"
   ]
  },
  {
   "cell_type": "code",
   "execution_count": 22,
   "metadata": {},
   "outputs": [
    {
     "data": {
      "text/plain": [
       "'Hello, this is a quick test file.\\nThis is the Second line.'"
      ]
     },
     "execution_count": 22,
     "metadata": {},
     "output_type": "execute_result"
    }
   ],
   "source": [
    "# 1.[.read()] Reading the text file again\n",
    "myfile.read()\n",
    "# 2.[.seek()] this will give empty string cz the cursor is there in the end and we need to set it back to 0 position\n",
    "myfile.seek(0)\n",
    "myfile.read()"
   ]
  },
  {
   "cell_type": "code",
   "execution_count": 23,
   "metadata": {},
   "outputs": [
    {
     "data": {
      "text/plain": [
       "['Hello, this is a quick test file.\\n', 'This is the Second line.']"
      ]
     },
     "execution_count": 23,
     "metadata": {},
     "output_type": "execute_result"
    }
   ],
   "source": [
    "# 3.[.readlines()]: output is a list with elements separated by newline\n",
    "myfile.seek(0)\n",
    "myfile.readlines()\n"
   ]
  },
  {
   "cell_type": "code",
   "execution_count": 66,
   "metadata": {},
   "outputs": [
    {
     "name": "stdout",
     "output_type": "stream",
     "text": [
      "Appending to test.txt\n"
     ]
    }
   ],
   "source": [
    "# appendint text with %%writefile\n",
    "%%writefile -a test.txt\n",
    "Hello, this is a quick test file.\n",
    "This is the Second line."
   ]
  },
  {
   "cell_type": "code",
   "execution_count": 68,
   "metadata": {},
   "outputs": [
    {
     "name": "stdout",
     "output_type": "stream",
     "text": [
      "Hello, this is a quick test file.\n",
      "This is the Second line.Hello, this is a quick test file.\n",
      "This is the Second line.\n"
     ]
    }
   ],
   "source": [
    "with open('test.txt') as f:\n",
    "    myfile = f\n",
    "    print (myfile.read())"
   ]
  },
  {
   "cell_type": "markdown",
   "metadata": {},
   "source": [
    "## File Locations\n",
    "1. If you want to open a file at another location in your file, pass in the entire file path --> use the double \"\\\\\" to provide Path"
   ]
  },
  {
   "cell_type": "code",
   "execution_count": 34,
   "metadata": {},
   "outputs": [],
   "source": [
    "# 4.close the open \n",
    "myfile.close()\n",
    "\n",
    "# 5.With statement to crete a new file from already opened file (so that it won't throw an error if opened in other applications)\n",
    "with open ('test.txt') as new_myfile:\n",
    "    content = new_myfile.read()"
   ]
  },
  {
   "cell_type": "code",
   "execution_count": 37,
   "metadata": {},
   "outputs": [
    {
     "name": "stdout",
     "output_type": "stream",
     "text": [
      "Hello, this is a quick test file.\n",
      "This is the Second line.\n"
     ]
    }
   ],
   "source": [
    "# mode - permissions r-read, w-write a new/ overwrite existing file, a-append, r+ = rad n write, w+ = write n read\n",
    "with open ('test.txt','r') as new_myfile:\n",
    "    content = new_myfile.read()\n",
    "    print (content)"
   ]
  },
  {
   "cell_type": "code",
   "execution_count": 54,
   "metadata": {},
   "outputs": [
    {
     "name": "stdout",
     "output_type": "stream",
     "text": [
      "Overwriting new_myfile.txt\n"
     ]
    }
   ],
   "source": [
    "%%writefile new_myfile.txt\n",
    "First Line\n",
    "Second Line\n",
    "Third Line"
   ]
  },
  {
   "cell_type": "code",
   "execution_count": 55,
   "metadata": {},
   "outputs": [
    {
     "name": "stdout",
     "output_type": "stream",
     "text": [
      "First Line\n",
      "Second Line\n",
      "Third Line\n"
     ]
    }
   ],
   "source": [
    "with open('new_myfile.txt', mode = 'r') as f:\n",
    "    print (f.read())"
   ]
  },
  {
   "cell_type": "code",
   "execution_count": 56,
   "metadata": {},
   "outputs": [],
   "source": [
    "with open('new_myfile.txt', mode = 'a') as f:\n",
    "    f.write('\\nFourth Line')"
   ]
  },
  {
   "cell_type": "code",
   "execution_count": 57,
   "metadata": {},
   "outputs": [
    {
     "name": "stdout",
     "output_type": "stream",
     "text": [
      "First Line\n",
      "Second Line\n",
      "Third Line\n",
      "Fourth Line\n"
     ]
    }
   ],
   "source": [
    "with open('new_myfile.txt', mode = 'r') as f:\n",
    "    print (f.read())"
   ]
  },
  {
   "cell_type": "code",
   "execution_count": 58,
   "metadata": {},
   "outputs": [],
   "source": [
    "with open ('abc.txt', mode = 'w') as f:\n",
    "    f.write('abcdefg')\n",
    "    "
   ]
  },
  {
   "cell_type": "code",
   "execution_count": 59,
   "metadata": {},
   "outputs": [
    {
     "name": "stdout",
     "output_type": "stream",
     "text": [
      "abcdefg\n"
     ]
    }
   ],
   "source": [
    "with open('abc.txt', mode = 'r') as f:\n",
    "    print (f.read())"
   ]
  },
  {
   "cell_type": "code",
   "execution_count": 74,
   "metadata": {},
   "outputs": [
    {
     "name": "stdout",
     "output_type": "stream",
     "text": [
      "Hello World\n"
     ]
    }
   ],
   "source": [
    "with open('test.txt', mode = 'w+') as f:\n",
    "    f.write ('Hello World')\n",
    "    f.seek(0)\n",
    "    print (f.read())\n",
    "    f.close()"
   ]
  },
  {
   "cell_type": "code",
   "execution_count": 71,
   "metadata": {},
   "outputs": [
    {
     "name": "stdout",
     "output_type": "stream",
     "text": [
      "Hello World\n"
     ]
    }
   ],
   "source": [
    "with open('test.txt', mode = 'r') as f:\n",
    "    #f.write ('Hello World')\n",
    "    print (f.read())"
   ]
  },
  {
   "cell_type": "code",
   "execution_count": null,
   "metadata": {},
   "outputs": [],
   "source": []
  }
 ],
 "metadata": {
  "kernelspec": {
   "display_name": "Python 3",
   "language": "python",
   "name": "python3"
  },
  "language_info": {
   "codemirror_mode": {
    "name": "ipython",
    "version": 3
   },
   "file_extension": ".py",
   "mimetype": "text/x-python",
   "name": "python",
   "nbconvert_exporter": "python",
   "pygments_lexer": "ipython3",
   "version": "3.6.4"
  },
  "toc": {
   "base_numbering": 1,
   "nav_menu": {},
   "number_sections": true,
   "sideBar": true,
   "skip_h1_title": false,
   "title_cell": "Table of Contents",
   "title_sidebar": "Contents",
   "toc_cell": false,
   "toc_position": {},
   "toc_section_display": true,
   "toc_window_display": true
  }
 },
 "nbformat": 4,
 "nbformat_minor": 2
}
